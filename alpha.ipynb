{
  "nbformat": 4,
  "nbformat_minor": 0,
  "metadata": {
    "colab": {
      "name": "alpha.ipynb",
      "provenance": [],
      "collapsed_sections": [],
      "authorship_tag": "ABX9TyPLXxC7An6DWf33vj9alZtH",
      "include_colab_link": true
    },
    "kernelspec": {
      "name": "python3",
      "display_name": "Python 3"
    },
    "language_info": {
      "name": "python"
    }
  },
  "cells": [
    {
      "cell_type": "markdown",
      "metadata": {
        "id": "view-in-github",
        "colab_type": "text"
      },
      "source": [
        "<a href=\"https://colab.research.google.com/github/Amir-D-Shadow/Google-Colab/blob/main/alpha.ipynb\" target=\"_parent\"><img src=\"https://colab.research.google.com/assets/colab-badge.svg\" alt=\"Open In Colab\"/></a>"
      ]
    },
    {
      "cell_type": "code",
      "metadata": {
        "id": "tvlBvKdFJzrW"
      },
      "source": [
        "import tensorflow as tf\n",
        "import tensorflow.keras.backend as K\n",
        "import numpy  as np\n",
        "from matplotlib import pyplot as plt"
      ],
      "execution_count": 2,
      "outputs": []
    },
    {
      "cell_type": "code",
      "metadata": {
        "colab": {
          "base_uri": "https://localhost:8080/"
        },
        "id": "GuJ32tf7PY7l",
        "outputId": "095890c0-8b11-4ddc-fd82-82c17200a4b9"
      },
      "source": [
        "x = tf.constant(value = np.random.randn(10,38,38,85))\n",
        "y = K.sum(x)\n",
        "K.eval(y)\n",
        "type(K.eval(K.shape(x)[0]).item())"
      ],
      "execution_count": null,
      "outputs": [
        {
          "output_type": "execute_result",
          "data": {
            "text/plain": [
              "int"
            ]
          },
          "metadata": {
            "tags": []
          },
          "execution_count": 18
        }
      ]
    },
    {
      "cell_type": "code",
      "metadata": {
        "id": "Llt-9e0GIXnT"
      },
      "source": [
        "def left_x_pred_x_true_pair_assign_func(input_tensor,value_tensor,in_pos,val_pos):\n",
        "\n",
        "  input_tensor = input_tensor.numpy()\n",
        "  val = value_tensor.numpy()\n",
        "\n",
        "  input_tensor[:,:,:,in_pos] = val[:,:,:,val_pos]\n",
        "\n",
        "  return input_tensor\n",
        "\n",
        "def left_y_pred left_y_true_assign_func(input_tensor,value_tensor,in_pos,val_pos):\n",
        "\n",
        "  input_tensor = input_tensor.numpy()\n",
        "  val = value_tensor.numpy()\n",
        "\n",
        "  input_tensor"
      ],
      "execution_count": 88,
      "outputs": []
    },
    {
      "cell_type": "code",
      "metadata": {
        "id": "OToDt5qjtLzN"
      },
      "source": [
        "class alpha_loss(tf.keras.losses.Loss):\n",
        "\n",
        "  def __init__(self,gamma = 2):\n",
        "\n",
        "    super(alpha_loss,self).__init__()\n",
        "\n",
        "    self.gamma = gamma\n",
        "\n",
        "  def call(self,y_true,y_pred):\n",
        "\n",
        "    #get prob\n",
        "    prob_true = y_true[:,:,:,0]\n",
        "    prob_pred = y_pred[:,:,:,0]\n",
        "\n",
        "    #get class\n",
        "    class_true = y_true[:,:,:,5:]\n",
        "    class_pred = y_pred[:,:,:,5:]\n",
        "\n",
        "    #****************** Focal loss ******************\n",
        "\n",
        "    #get batch size\n",
        "    m = K.cast(K.shape(y_pred)[0],K.dtype(y_pred))\n",
        "\n",
        "    #clip the prediction\n",
        "    prob_pred = K.clip(prob_pred,min_value = 0.0, max_value = 1.0)\n",
        "    class_pred = K.clip(class_pred,min_value = 0.0, max_value = 1.0)\n",
        "\n",
        "    #prob focal loss\n",
        "    loss_tensor =  - ( (1 - prob_pred)**self.gamma ) * prob_true * tf.math.log( prob_pred + 1e-18 ) - ( prob_pred ** self.gamma ) * ( 1 - prob_true ) * tf.math.log( 1 - prob_pred + 1e-18 )\n",
        "    prob_focal_loss = K.sum(loss_tensor)/ m\n",
        "\n",
        "    #class focal loss\n",
        "    loss_tensor =  - ( (1 - class_pred)**self.gamma ) * class_true * tf.math.log( class_pred + 1e-18 ) - ( class_pred ** self.gamma) * ( 1 - class_true ) * tf.math.log( 1 - class_pred + 1e-18 )\n",
        "    class_focal_loss = K.sum(loss_tensor) / m\n",
        "\n",
        "\n",
        "    #****************** Focal loss ******************\n",
        "\n",
        "    #get reg left -- (x,y)\n",
        "    reg_left_true = y_true[:,:,:,1:3] \n",
        "    reg_left_pred = y_pred[:,:,:,1:3]\n",
        "\n",
        "    #get reg center -- (x,y)\n",
        "    reg_center_true = y_true[:,:,:,3:5] \n",
        "    reg_center_pred = y_pred[:,:,:,3:5]\n",
        "\n",
        "    #calculate width x height of anchor box\n",
        "    reg_wh_true = (reg_center_true[:,:,:,:] - reg_left_true[:,:,:,:])*2\n",
        "    reg_wh_pred = (reg_center_pred[:,:,:,:] - reg_left_pred[:,:,:,:])*2 \n",
        "\n",
        "    #calculate reg right\n",
        "    reg_right_true = reg_left_true[:,:,:,:] + reg_wh_true[:,:,:,:]\n",
        "    reg_right_pred = reg_left_pred[:,:,:,:] + reg_wh_pred[:,:,:,:]\n",
        "\n",
        "    #****************** DIOU loss ******************\n",
        "\n",
        "    #----------------------------------------------------------------------\n",
        "    #calculate IOU  \n",
        "\n",
        "    #calculate intersection left\n",
        "    reg_left_intersection = tf.math.maximum(reg_left_pred,reg_left_true)\n",
        "\n",
        "    #calculate intersection right\n",
        "    reg_right_intersection = tf.math.minimum(reg_right_pred,reg_right_true)\n",
        "\n",
        "    #calibrate\n",
        "    #reg_right_intersection = tf.where((reg_left_intersection>reg_right_intersection),reg_left_intersection,reg_right_intersection) #-- same meaning\n",
        "    reg_right_intersection = tf.math.maximum(reg_left_intersection,reg_right_intersection) #-- same meaning\n",
        "\n",
        "    #intersection width height\n",
        "    intersection_wh = reg_right_intersection[:,:,:,:] - reg_left_intersection[:,:,:,:]\n",
        "\n",
        "    #intersection area\n",
        "    intersection_area = intersection_wh[:,:,:,0] * intersection_wh[:,:,:,1]\n",
        "\n",
        "    #union area\n",
        "    true_area = reg_wh_true[:,:,:,0] * reg_wh_true[:,:,:,1]\n",
        "    pred_area = reg_wh_pred[:,:,:,0] * reg_wh_pred[:,:,:,1]\n",
        "\n",
        "    union_area = true_area[:,:,:] + pred_area[:,:,:] - intersection_area[:,:,:]\n",
        "\n",
        "    #calculate iou \n",
        "    iou_val = intersection_area[:,:,:] / union_area[:,:,:]\n",
        "    #----------------------------------------------------------------------\n",
        "\n",
        "    #outermost anchor box\n",
        "    outermost_left = tf.math.minimum(reg_left_pred,reg_left_true)\n",
        "    outermost_right = tf.math.maximum(reg_right_pred,reg_right_true)\n",
        "\n",
        "    #outermost distance\n",
        "    distance_outermost =  K.sum( K.square(outermost_right[:,:,:,:] - outermost_left[:,:,:,:]) ,axis=-1) \n",
        "   \n",
        "    #center distance\n",
        "    distance_center =  K.sum( K.square(reg_center_true[:,:,:,:] - reg_center_pred[:,:,:,:]) ,axis=-1) \n",
        "    #----------------------------------------------------------------------\n",
        "\n",
        "    #calculate DIOU\n",
        "    loss_tensor = 1 - (iou_val[:,:,:] - distance_center[:,:,:]/distance_outermost[:,:,:] )\n",
        "    reg_loss = K.sum(loss_tensor)\n",
        "\n",
        "    #****************** DIOU loss ******************\n",
        "\n",
        "    #calculate loss\n",
        "    loss = prob_focal_loss + class_focal_loss + reg_loss\n",
        "\n",
        "    return loss"
      ],
      "execution_count": 20,
      "outputs": []
    },
    {
      "cell_type": "code",
      "metadata": {
        "colab": {
          "base_uri": "https://localhost:8080/"
        },
        "id": "4_773ppAXetX",
        "outputId": "1af0ee5d-7c5e-4891-ebe3-0bacf9e6b604"
      },
      "source": [
        "np.random.seed(1)\n",
        "y_true = tf.constant(value = np.random.randn(10,38,38,85),dtype=np.float64)\n",
        "data = tf.constant(value= np.random.randn(10,40,40,3),dtype=np.float64)\n",
        "\n",
        "x = tf.keras.layers.Input(shape =(40,40,3))\n",
        "\n",
        "k1 = tf.keras.layers.BatchNormalization(axis=-1)(x)\n",
        "h1 = tf.keras.layers.Conv2D(256,3,1,\"valid\",data_format=\"channels_last\")(k1)\n",
        "h2 = tf.keras.layers.BatchNormalization(axis=-1)(h1)\n",
        "h3 = tf.keras.layers.LeakyReLU()(h2)\n",
        "drop_h = tf.keras.layers.SpatialDropout2D(0.5)(h3)\n",
        "h4 = tf.keras.layers.Conv2D(256,3,1,\"same\",data_format=\"channels_last\")(drop_h)\n",
        "h5 = tf.keras.layers.BatchNormalization(axis=-1)(h4)\n",
        "h6 = tf.keras.layers.LeakyReLU()(h5)\n",
        "k2 = tf.keras.layers.Conv2D(85,3,1,\"same\",data_format=\"channels_last\")(h6)\n",
        "\n",
        "model = tf.keras.Model(inputs=x,outputs=k2)\n",
        "\n",
        "model.compile(optimizer=\"adam\",loss=alpha_loss())\n",
        "\n",
        "b = model.fit(data,y_true,epochs=50)\n"
      ],
      "execution_count": 29,
      "outputs": [
        {
          "output_type": "stream",
          "text": [
            "Epoch 1/50\n",
            "1/1 [==============================] - 3s 3s/step - loss: 677722.3125\n",
            "Epoch 2/50\n",
            "1/1 [==============================] - 2s 2s/step - loss: 332819.1562\n",
            "Epoch 3/50\n",
            "1/1 [==============================] - 2s 2s/step - loss: 186419.0625\n",
            "Epoch 4/50\n",
            "1/1 [==============================] - 2s 2s/step - loss: 117206.4531\n",
            "Epoch 5/50\n",
            "1/1 [==============================] - 2s 2s/step - loss: 88266.4531\n",
            "Epoch 6/50\n",
            "1/1 [==============================] - 2s 2s/step - loss: 78416.6094\n",
            "Epoch 7/50\n",
            "1/1 [==============================] - 2s 2s/step - loss: 68332.7031\n",
            "Epoch 8/50\n",
            "1/1 [==============================] - 2s 2s/step - loss: 62211.5859\n",
            "Epoch 9/50\n",
            "1/1 [==============================] - 2s 2s/step - loss: 57303.8125\n",
            "Epoch 10/50\n",
            "1/1 [==============================] - 2s 2s/step - loss: 54810.9609\n",
            "Epoch 11/50\n",
            "1/1 [==============================] - 2s 2s/step - loss: 57438.1641\n",
            "Epoch 12/50\n",
            "1/1 [==============================] - 2s 2s/step - loss: 51555.6211\n",
            "Epoch 13/50\n",
            "1/1 [==============================] - 2s 2s/step - loss: 52750.4258\n",
            "Epoch 14/50\n",
            "1/1 [==============================] - 2s 2s/step - loss: 55984.4766\n",
            "Epoch 15/50\n",
            "1/1 [==============================] - 2s 2s/step - loss: 51940.2891\n",
            "Epoch 16/50\n",
            "1/1 [==============================] - 2s 2s/step - loss: 48564.5781\n",
            "Epoch 17/50\n",
            "1/1 [==============================] - 2s 2s/step - loss: 53459.5430\n",
            "Epoch 18/50\n",
            "1/1 [==============================] - 2s 2s/step - loss: 49331.3516\n",
            "Epoch 19/50\n",
            "1/1 [==============================] - 2s 2s/step - loss: 48942.1484\n",
            "Epoch 20/50\n",
            "1/1 [==============================] - 2s 2s/step - loss: 46357.8594\n",
            "Epoch 21/50\n",
            "1/1 [==============================] - 2s 2s/step - loss: 46462.4766\n",
            "Epoch 22/50\n",
            "1/1 [==============================] - 2s 2s/step - loss: 54406.0117\n",
            "Epoch 23/50\n",
            "1/1 [==============================] - 2s 2s/step - loss: 46936.3359\n",
            "Epoch 24/50\n",
            "1/1 [==============================] - 2s 2s/step - loss: 46002.0312\n",
            "Epoch 25/50\n",
            "1/1 [==============================] - 2s 2s/step - loss: 43927.4609\n",
            "Epoch 26/50\n",
            "1/1 [==============================] - 2s 2s/step - loss: 45081.5117\n",
            "Epoch 27/50\n",
            "1/1 [==============================] - 2s 2s/step - loss: 43840.8867\n",
            "Epoch 28/50\n",
            "1/1 [==============================] - 2s 2s/step - loss: 43514.0469\n",
            "Epoch 29/50\n",
            "1/1 [==============================] - 2s 2s/step - loss: 44759.3438\n",
            "Epoch 30/50\n",
            "1/1 [==============================] - 2s 2s/step - loss: 43424.2773\n",
            "Epoch 31/50\n",
            "1/1 [==============================] - 2s 2s/step - loss: 42001.6797\n",
            "Epoch 32/50\n",
            "1/1 [==============================] - 2s 2s/step - loss: 42435.3672\n",
            "Epoch 33/50\n",
            "1/1 [==============================] - 2s 2s/step - loss: 41519.2969\n",
            "Epoch 34/50\n",
            "1/1 [==============================] - 2s 2s/step - loss: 39742.2305\n",
            "Epoch 35/50\n",
            "1/1 [==============================] - 2s 2s/step - loss: 41417.5078\n",
            "Epoch 36/50\n",
            "1/1 [==============================] - 2s 2s/step - loss: 39460.4062\n",
            "Epoch 37/50\n",
            "1/1 [==============================] - 2s 2s/step - loss: 41033.2031\n",
            "Epoch 38/50\n",
            "1/1 [==============================] - 2s 2s/step - loss: 40481.3906\n",
            "Epoch 39/50\n",
            "1/1 [==============================] - 2s 2s/step - loss: 40962.1641\n",
            "Epoch 40/50\n",
            "1/1 [==============================] - 2s 2s/step - loss: 39007.2578\n",
            "Epoch 41/50\n",
            "1/1 [==============================] - 2s 2s/step - loss: 40119.3516\n",
            "Epoch 42/50\n",
            "1/1 [==============================] - 2s 2s/step - loss: 39338.3789\n",
            "Epoch 43/50\n",
            "1/1 [==============================] - 2s 2s/step - loss: 37975.7578\n",
            "Epoch 44/50\n",
            "1/1 [==============================] - 2s 2s/step - loss: 37175.3125\n",
            "Epoch 45/50\n",
            "1/1 [==============================] - 2s 2s/step - loss: 38367.7969\n",
            "Epoch 46/50\n",
            "1/1 [==============================] - 2s 2s/step - loss: 38084.9766\n",
            "Epoch 47/50\n",
            "1/1 [==============================] - 2s 2s/step - loss: 37615.4531\n",
            "Epoch 48/50\n",
            "1/1 [==============================] - 2s 2s/step - loss: 37923.1953\n",
            "Epoch 49/50\n",
            "1/1 [==============================] - 2s 2s/step - loss: 38308.5156\n",
            "Epoch 50/50\n",
            "1/1 [==============================] - 2s 2s/step - loss: 36825.1875\n"
          ],
          "name": "stdout"
        }
      ]
    },
    {
      "cell_type": "code",
      "metadata": {
        "colab": {
          "base_uri": "https://localhost:8080/",
          "height": 284
        },
        "id": "SWEQaL2XgFTD",
        "outputId": "a464e2f2-f61d-47c3-923a-b5a31e79c996"
      },
      "source": [
        "plt.plot(b.history[\"loss\"])"
      ],
      "execution_count": 30,
      "outputs": [
        {
          "output_type": "execute_result",
          "data": {
            "text/plain": [
              "[<matplotlib.lines.Line2D at 0x7ff9dcfed310>]"
            ]
          },
          "metadata": {
            "tags": []
          },
          "execution_count": 30
        },
        {
          "output_type": "display_data",
          "data": {
            "image/png": "[encoded data removed]",
            "text/plain": [
              "<Figure size 432x288 with 1 Axes>"
            ]
          },
          "metadata": {
            "tags": [],
            "needs_background": "light"
          }
        }
      ]
    }
  ]
}