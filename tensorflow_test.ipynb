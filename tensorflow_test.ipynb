{
  "nbformat": 4,
  "nbformat_minor": 0,
  "metadata": {
    "colab": {
      "name": "tensorflow_test.ipynb",
      "provenance": [],
      "collapsed_sections": [],
      "authorship_tag": "ABX9TyPuDmGqwmurcODbVzDywhdt",
      "include_colab_link": true
    },
    "kernelspec": {
      "name": "python3",
      "display_name": "Python 3"
    },
    "language_info": {
      "name": "python"
    }
  },
  "cells": [
    {
      "cell_type": "markdown",
      "metadata": {
        "id": "view-in-github",
        "colab_type": "text"
      },
      "source": [
        "<a href=\"https://colab.research.google.com/github/Amir-D-Shadow/Google-Colab/blob/main/tensorflow_test.ipynb\" target=\"_parent\"><img src=\"https://colab.research.google.com/assets/colab-badge.svg\" alt=\"Open In Colab\"/></a>"
      ]
    },
    {
      "cell_type": "code",
      "metadata": {
        "colab": {
          "base_uri": "https://localhost:8080/"
        },
        "id": "iB4KSLl_VWRH",
        "outputId": "1c63627f-e8b6-4cc2-a369-23d2887dabb4"
      },
      "source": [
        "pip install tensorflow-addons"
      ],
      "execution_count": 1,
      "outputs": [
        {
          "output_type": "stream",
          "text": [
            "Requirement already satisfied: tensorflow-addons in /usr/local/lib/python3.7/dist-packages (0.13.0)\n",
            "Requirement already satisfied: typeguard>=2.7 in /usr/local/lib/python3.7/dist-packages (from tensorflow-addons) (2.7.1)\n"
          ],
          "name": "stdout"
        }
      ]
    },
    {
      "cell_type": "code",
      "metadata": {
        "id": "5d-WS9iU8FI-"
      },
      "source": [
        "import tensorflow as tf\n",
        "import tensorflow_addons as tfa\n",
        "from tensorflow.keras.utils import plot_model\n",
        "import matplotlib.pyplot as plt\n",
        "import numpy as np"
      ],
      "execution_count": 2,
      "outputs": []
    },
    {
      "cell_type": "code",
      "metadata": {
        "id": "uELzojbJ8PqX"
      },
      "source": [
        "initializer = tf.random_normal_initializer()\n",
        "x = tf.constant(value=initializer(shape=(2,30,30,64),dtype=\"float64\"))\n",
        "bn = tf.keras.layers.BatchNormalization(axis=3,trainable=True)\n",
        "res = bn(x)"
      ],
      "execution_count": 3,
      "outputs": []
    },
    {
      "cell_type": "code",
      "metadata": {
        "colab": {
          "base_uri": "https://localhost:8080/"
        },
        "id": "VUt2ZtVQLxtD",
        "outputId": "dd884128-8534-4ee4-f7b9-1e25966ff97b"
      },
      "source": [
        "print(bn.moving_mean)\n",
        "print(bn.moving_variance)"
      ],
      "execution_count": 4,
      "outputs": [
        {
          "output_type": "stream",
          "text": [
            "<tf.Variable 'batch_normalization/moving_mean:0' shape=(64,) dtype=float32, numpy=\n",
            "array([0., 0., 0., 0., 0., 0., 0., 0., 0., 0., 0., 0., 0., 0., 0., 0., 0.,\n",
            "       0., 0., 0., 0., 0., 0., 0., 0., 0., 0., 0., 0., 0., 0., 0., 0., 0.,\n",
            "       0., 0., 0., 0., 0., 0., 0., 0., 0., 0., 0., 0., 0., 0., 0., 0., 0.,\n",
            "       0., 0., 0., 0., 0., 0., 0., 0., 0., 0., 0., 0., 0.], dtype=float32)>\n",
            "<tf.Variable 'batch_normalization/moving_variance:0' shape=(64,) dtype=float32, numpy=\n",
            "array([1., 1., 1., 1., 1., 1., 1., 1., 1., 1., 1., 1., 1., 1., 1., 1., 1.,\n",
            "       1., 1., 1., 1., 1., 1., 1., 1., 1., 1., 1., 1., 1., 1., 1., 1., 1.,\n",
            "       1., 1., 1., 1., 1., 1., 1., 1., 1., 1., 1., 1., 1., 1., 1., 1., 1.,\n",
            "       1., 1., 1., 1., 1., 1., 1., 1., 1., 1., 1., 1., 1.], dtype=float32)>\n"
          ],
          "name": "stdout"
        }
      ]
    },
    {
      "cell_type": "code",
      "metadata": {
        "id": "SLgktOsYuk06"
      },
      "source": [
        "#activation Mish\n",
        "def Mish(x):\n",
        "\n",
        "   softplus = tf.math.softplus(x)\n",
        "   tanh_s = tf.math.tanh(softplus)\n",
        "\n",
        "   return (x * tanh_s)"
      ],
      "execution_count": 5,
      "outputs": []
    },
    {
      "cell_type": "code",
      "metadata": {
        "id": "A6m8abGPB4en",
        "colab": {
          "base_uri": "https://localhost:8080/"
        },
        "outputId": "b2ac844a-c044-4eca-b535-34380e49a8f4"
      },
      "source": [
        "x = tf.keras.layers.Lambda(Mish)(x)\n",
        "k = tf.Variable(initial_value=initializer(shape=(2,30,30,64),dtype=\"float32\"))\n",
        "print(tuple(k.get_shape().as_list()))"
      ],
      "execution_count": 6,
      "outputs": [
        {
          "output_type": "stream",
          "text": [
            "(2, 30, 30, 64)\n"
          ],
          "name": "stdout"
        }
      ]
    },
    {
      "cell_type": "code",
      "metadata": {
        "id": "CZ96sKdEDcaP"
      },
      "source": [
        "#Input Layer\n",
        "k = tf.Variable(initial_value=initializer(shape=(10,30,30,64),dtype=\"float64\"))\n",
        "\n",
        "in_x = tf.keras.layers.Input(shape=tuple(k.get_shape().as_list()[1:]))\n",
        "#Convolution 2D layer\n",
        "conv2D_x = tf.keras.layers.Conv2D(filters=64,kernel_size=3,strides=2)(in_x)\n",
        "\n",
        "#Batch Normalization layer\n",
        "BN_x = tf.keras.layers.BatchNormalization(axis=3,trainable=True)(conv2D_x)\n",
        "\n",
        "#activate by Mish\n",
        "output_Mish = tf.keras.layers.Lambda(Mish)(BN_x)\n",
        "\n",
        "model = tf.keras.Model(inputs=in_x,outputs=output_Mish)\n"
      ],
      "execution_count": 7,
      "outputs": []
    },
    {
      "cell_type": "code",
      "metadata": {
        "colab": {
          "base_uri": "https://localhost:8080/",
          "height": 368
        },
        "id": "32YO9vkbDeK7",
        "outputId": "debf941f-a10e-4591-ef93-aa7b239a030e"
      },
      "source": [
        "plot_model(model)\n"
      ],
      "execution_count": 8,
      "outputs": [
        {
          "output_type": "execute_result",
          "data": {
            "image/png": "[encoded data removed]",
            "text/plain": [
              "<IPython.core.display.Image object>"
            ]
          },
          "metadata": {
            "tags": []
          },
          "execution_count": 8
        }
      ]
    },
    {
      "cell_type": "code",
      "metadata": {
        "colab": {
          "base_uri": "https://localhost:8080/"
        },
        "id": "oQYJUalOEuql",
        "outputId": "11e7cd3f-5b2b-4ee3-95d1-1d788450e0fd"
      },
      "source": [
        "print(type(conv2D_x))\n",
        "print(type(output_Mish))\n",
        "print(type(in_x))"
      ],
      "execution_count": 9,
      "outputs": [
        {
          "output_type": "stream",
          "text": [
            "<class 'tensorflow.python.keras.engine.keras_tensor.KerasTensor'>\n",
            "<class 'tensorflow.python.keras.engine.keras_tensor.KerasTensor'>\n",
            "<class 'tensorflow.python.keras.engine.keras_tensor.KerasTensor'>\n"
          ],
          "name": "stdout"
        }
      ]
    },
    {
      "cell_type": "code",
      "metadata": {
        "colab": {
          "base_uri": "https://localhost:8080/",
          "height": 282
        },
        "id": "uUYOyz1uR_oi",
        "outputId": "c955f7f0-46c8-4066-9d12-0fa0dc7aaae6"
      },
      "source": [
        "x = tf.constant(value=np.arange(-4,4,0.000001,dtype=\"float64\"))\n",
        "res = tf.keras.layers.Lambda(Mish)(x)\n",
        "#get back the tensor value of the layer , return numpy.ndarray\n",
        "k = tf.keras.backend.eval(res)\n",
        "plt.plot(x.numpy(),k)"
      ],
      "execution_count": 10,
      "outputs": [
        {
          "output_type": "execute_result",
          "data": {
            "text/plain": [
              "[<matplotlib.lines.Line2D at 0x7fcb53629590>]"
            ]
          },
          "metadata": {
            "tags": []
          },
          "execution_count": 10
        },
        {
          "output_type": "display_data",
          "data": {
            "image/png": "[encoded data removed]",
            "text/plain": [
              "<Figure size 432x288 with 1 Axes>"
            ]
          },
          "metadata": {
            "tags": [],
            "needs_background": "light"
          }
        }
      ]
    },
    {
      "cell_type": "code",
      "metadata": {
        "colab": {
          "base_uri": "https://localhost:8080/",
          "height": 282
        },
        "id": "X98LaRHCrERS",
        "outputId": "1a0f1764-132c-4d98-bc6c-d8d9b7be4d48"
      },
      "source": [
        "x = tf.constant(value=np.arange(-4,4,0.000001,dtype=\"float64\"))\n",
        "res = Mish(x)\n",
        "\n",
        "plt.plot(x.numpy(),res.numpy())"
      ],
      "execution_count": 11,
      "outputs": [
        {
          "output_type": "execute_result",
          "data": {
            "text/plain": [
              "[<matplotlib.lines.Line2D at 0x7fcb530fd4d0>]"
            ]
          },
          "metadata": {
            "tags": []
          },
          "execution_count": 11
        },
        {
          "output_type": "display_data",
          "data": {
            "image/png": "[encoded data removed]",
            "text/plain": [
              "<Figure size 432x288 with 1 Axes>"
            ]
          },
          "metadata": {
            "tags": [],
            "needs_background": "light"
          }
        }
      ]
    },
    {
      "cell_type": "code",
      "metadata": {
        "colab": {
          "base_uri": "https://localhost:8080/"
        },
        "id": "bAF4HKoarTGs",
        "outputId": "77f106dd-2e0f-4d6a-9073-e0ad45be0a1f"
      },
      "source": [
        "res.numpy()"
      ],
      "execution_count": 12,
      "outputs": [
        {
          "output_type": "execute_result",
          "data": {
            "text/plain": [
              "array([-0.07259174, -0.07259179, -0.07259185, ...,  3.99740979,\n",
              "        3.9974108 ,  3.9974118 ])"
            ]
          },
          "metadata": {
            "tags": []
          },
          "execution_count": 12
        }
      ]
    },
    {
      "cell_type": "code",
      "metadata": {
        "colab": {
          "base_uri": "https://localhost:8080/",
          "height": 368
        },
        "id": "-KLDTK-f2epB",
        "outputId": "6e08500b-4c4c-437f-b137-bfe0ed4a7ffc"
      },
      "source": [
        "k = tf.Variable(initial_value=initializer(shape=(10,30,30,64),dtype=\"float64\"))\n",
        "\n",
        "in_x = tf.keras.layers.Input(shape=tuple(k.get_shape().as_list()[1:]))\n",
        "\n",
        "conv2D_x = tf.keras.layers.Conv2D(filters=64,kernel_size=3,strides=2)(in_x)\n",
        "\n",
        "BN_x = tf.keras.layers.BatchNormalization(axis=3)(conv2D_x)\n",
        "\n",
        "output_leaky_relu = tf.keras.layers.LeakyReLU()(BN_x)\n",
        "\n",
        "model = tf.keras.Model(inputs=in_x,outputs=output_leaky_relu)\n",
        "\n",
        "plot_model(model)"
      ],
      "execution_count": 13,
      "outputs": [
        {
          "output_type": "execute_result",
          "data": {
            "image/png": "[encoded data removed]",
            "text/plain": [
              "<IPython.core.display.Image object>"
            ]
          },
          "metadata": {
            "tags": []
          },
          "execution_count": 13
        }
      ]
    },
    {
      "cell_type": "code",
      "metadata": {
        "id": "IQAbaSBbU30B"
      },
      "source": [
        "#CBM Module\n",
        "class CBM(tf.keras.Model):\n",
        "\n",
        "   def __init__(self,filters=32,kernel_size=3,strides=2,padding=\"valid\",**kwargs):\n",
        "\n",
        "      #initialization\n",
        "      super(CBM,self).__init__(**kwargs)\n",
        "\n",
        "      #define layers\n",
        "      self.conv2D_x = tf.keras.layers.Conv2D(filters=filters,kernel_size=kernel_size,strides=strides,padding=padding)\n",
        "\n",
        "      self.BN_x = tf.keras.layers.BatchNormalization(axis=3)\n",
        "\n",
        "      self.output_Mish = tf.keras.layers.Lambda(Mish)\n",
        "\n",
        "      \n",
        "\n",
        "   def call(self,inputs):\n",
        "\n",
        "      \"\"\"\n",
        "      input -- tensorflow layer with shape (m,n_H,n_W,n_C)\n",
        "      \"\"\"\n",
        "\n",
        "      #Convolution 2D layer\n",
        "      conv2D_x = self.conv2D_x(inputs)\n",
        "\n",
        "      #Batch Normalization layer\n",
        "      BN_x = self.BN_x(conv2D_x)\n",
        "\n",
        "      #activate by Mish\n",
        "      output_Mish = self.output_Mish(BN_x)\n",
        "\n",
        "      return output_Mish"
      ],
      "execution_count": 14,
      "outputs": []
    },
    {
      "cell_type": "code",
      "metadata": {
        "id": "yl5c9uOxUv97"
      },
      "source": [
        "k = tf.Variable(initial_value=initializer(shape=(10,304,304,64),dtype=\"float64\"))\n",
        "\n",
        "in_x = tf.keras.layers.Input(shape=tuple(k.get_shape().as_list()[1:]))\n",
        "\n",
        "CBM_1 = CBM(32,1,1,\"same\")(in_x)\n",
        "\n",
        "#2nd CBM block\n",
        "CBM_2 = CBM(64,3,1,\"same\")(CBM_1)\n",
        "\n",
        "#Add Layer\n",
        "output_shortcut = tf.keras.layers.Add()([CBM_2,in_x])\n",
        "\n",
        "model = tf.keras.Model(inputs=in_x,outputs=output_shortcut)"
      ],
      "execution_count": 15,
      "outputs": []
    },
    {
      "cell_type": "code",
      "metadata": {
        "colab": {
          "base_uri": "https://localhost:8080/",
          "height": 368
        },
        "id": "KKTexdm2WFLP",
        "outputId": "5dcd0516-9785-44c4-dce6-eeb92b6908cd"
      },
      "source": [
        "plot_model(model)"
      ],
      "execution_count": 16,
      "outputs": [
        {
          "output_type": "execute_result",
          "data": {
            "image/png": "[encoded data removed]",
            "text/plain": [
              "<IPython.core.display.Image object>"
            ]
          },
          "metadata": {
            "tags": []
          },
          "execution_count": 16
        }
      ]
    }
  ]
}