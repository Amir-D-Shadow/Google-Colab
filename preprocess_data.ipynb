{
  "nbformat": 4,
  "nbformat_minor": 0,
  "metadata": {
    "colab": {
      "name": "preprocess data.ipynb",
      "provenance": [],
      "collapsed_sections": [],
      "authorship_tag": "ABX9TyNRkNtLZja5WDyRSM16hIeW",
      "include_colab_link": true
    },
    "kernelspec": {
      "name": "python3",
      "display_name": "Python 3"
    },
    "language_info": {
      "name": "python"
    }
  },
  "cells": [
    {
      "cell_type": "markdown",
      "metadata": {
        "id": "view-in-github",
        "colab_type": "text"
      },
      "source": [
        "<a href=\"https://colab.research.google.com/github/Amir-D-Shadow/Google-Colab/blob/main/preprocess_data.ipynb\" target=\"_parent\"><img src=\"https://colab.research.google.com/assets/colab-badge.svg\" alt=\"Open In Colab\"/></a>"
      ]
    },
    {
      "cell_type": "code",
      "metadata": {
        "id": "7ZAZ-2pLl-Ep"
      },
      "source": [
        "import numpy as np\n",
        "import random\n",
        "from numba import jit\n",
        "import statistics"
      ],
      "execution_count": 1,
      "outputs": []
    },
    {
      "cell_type": "code",
      "metadata": {
        "colab": {
          "base_uri": "https://localhost:8080/"
        },
        "id": "6_pL1o3br7Im",
        "outputId": "350ef558-6ecb-4f44-fde3-2c3ef0c031f2"
      },
      "source": [
        "a = [(6,989),(546,2),(456,4)]\n",
        "b = random.choice(a)\n",
        "print(type(b))"
      ],
      "execution_count": 2,
      "outputs": [
        {
          "output_type": "stream",
          "text": [
            "<class 'tuple'>\n"
          ],
          "name": "stdout"
        }
      ]
    },
    {
      "cell_type": "code",
      "metadata": {
        "colab": {
          "base_uri": "https://localhost:8080/"
        },
        "id": "InauNw99u2TB",
        "outputId": "9b80563a-e4bd-4991-f10f-cbccb465b5a4"
      },
      "source": [
        "a = np.random.randn(6,9,8)\n",
        "b = a[:,:,np.newaxis,:]\n",
        "b.shape"
      ],
      "execution_count": 3,
      "outputs": [
        {
          "output_type": "execute_result",
          "data": {
            "text/plain": [
              "(6, 9, 1, 8)"
            ]
          },
          "metadata": {
            "tags": []
          },
          "execution_count": 3
        }
      ]
    },
    {
      "cell_type": "code",
      "metadata": {
        "colab": {
          "base_uri": "https://localhost:8080/"
        },
        "id": "4KoRygsgIAN3",
        "outputId": "4a2875ab-3702-481e-afe5-c5975971224f"
      },
      "source": [
        "a = [1,6,9,8,33]\n",
        "b = statistics.mean(a)\n",
        "print(type(b))"
      ],
      "execution_count": 4,
      "outputs": [
        {
          "output_type": "stream",
          "text": [
            "<class 'float'>\n"
          ],
          "name": "stdout"
        }
      ]
    },
    {
      "cell_type": "code",
      "metadata": {
        "id": "fJTOV5LzAC1X"
      },
      "source": [
        "#@jit(nopython=True)\n",
        "def best_anchor(box,anchors):\n",
        "  \"\"\"\n",
        "  box -- (h,w)\n",
        "\n",
        "  anchor -- List [(h1,w1),(h2,w2),.....,(hk,wk)]\n",
        "\n",
        "  return class\n",
        "  \"\"\"\n",
        "  max_iou = 0\n",
        "  max_index = 0\n",
        "  index = 0\n",
        "\n",
        "  for anchor_hw in anchors:\n",
        "\n",
        "    min_h = min(box[0],anchor_hw[0])\n",
        "    min_w = min(box[1],anchor_hw[1])\n",
        "\n",
        "    intersection_area = min_h * min_w\n",
        "\n",
        "    union_area = box[0] * box[1] + anchor_hw[0] * anchor_hw[1] - intersection_area\n",
        "\n",
        "    cur_iou = intersection_area / (union_area + 0.000000001)\n",
        "\n",
        "    if cur_iou > max_iou:\n",
        "\n",
        "      max_iou = cur_iou\n",
        "\n",
        "      max_index = index\n",
        "\n",
        "    index = index + 1\n",
        "    \n",
        "  return max_index"
      ],
      "execution_count": 5,
      "outputs": []
    },
    {
      "cell_type": "code",
      "metadata": {
        "id": "e0eUyASXMfOY"
      },
      "source": [
        "def update_anchor_x(class_list,anchors_box):\n",
        "\n",
        "  \"\"\"\n",
        "  class_list -- list[(h1,w1),(h2,w2),....]\n",
        "  \"\"\"\n",
        "\n",
        "  sum_w = 0\n",
        "  sum_h = 0\n",
        "\n",
        "  for sample in class_list:\n",
        "\n",
        "    sum_h = sum_h + sample[0]\n",
        "    sum_w = sum_w + sample[1]\n",
        "\n",
        "  m = len(class_list)\n",
        "\n",
        "  if m == 0:\n",
        "\n",
        "    return anchors_box[0],anchors_box[1]\n",
        "\n",
        "  mean_h = sum_h/m\n",
        "  mean_w = sum_w/m\n",
        "\n",
        "  return mean_h,mean_w\n"
      ],
      "execution_count": 6,
      "outputs": []
    },
    {
      "cell_type": "code",
      "metadata": {
        "id": "JuK85sYGmNyB"
      },
      "source": [
        "def K_mean(inputs,K=6,threshold=0.2,max_iterations=10000):\n",
        "\n",
        "  \"\"\"\n",
        "  inputs -- list[(h1,w1),(h2,w2),....]\n",
        "  \"\"\"\n",
        "  #Initialize center\n",
        "  anchors = []\n",
        "\n",
        "  for i in range(K):\n",
        "\n",
        "    anchors.append(random.choice(inputs))\n",
        "\n",
        "  iterations_i = 0\n",
        "\n",
        "  #Calculate K-means\n",
        "  while iterations_i < max_iterations:\n",
        "\n",
        "    class_collections = [[] for i in range(K)]\n",
        "\n",
        "    for box in inputs:\n",
        "\n",
        "      class_id = best_anchor(box,anchors)\n",
        "\n",
        "      class_collections[class_id].append(box)\n",
        "\n",
        "    #used for checking threshold\n",
        "    sum_diff = 0\n",
        "\n",
        "    #update anchors\n",
        "    for class_idx,sample_x in enumerate(class_collections):\n",
        "\n",
        "        new_h,new_w = update_anchor_x(sample_x,anchors[class_idx])\n",
        "\n",
        "        #sum the changes for w and h of new anchor box\n",
        "        sum_diff = sum_diff + ((new_h-anchors[class_idx][0])**2 + (new_w - anchors[class_idx][1])**2)**(0.5)\n",
        "\n",
        "        #update anchor box\n",
        "        anchors[class_idx] = (new_h,new_w)\n",
        "\n",
        "    if sum_diff <= threshold :\n",
        "\n",
        "      return anchors\n",
        "\n",
        "  return anchors"
      ],
      "execution_count": 7,
      "outputs": []
    },
    {
      "cell_type": "code",
      "metadata": {
        "colab": {
          "base_uri": "https://localhost:8080/"
        },
        "id": "1gAJpu02RbQ8",
        "outputId": "6b2301e1-9060-4bb3-877b-39ed81014910"
      },
      "source": [
        "a = [(i,j) for i,j in enumerate(range(100))]\n",
        "K_mean(a)"
      ],
      "execution_count": 8,
      "outputs": [
        {
          "output_type": "execute_result",
          "data": {
            "text/plain": [
              "[(33.05555555555556, 33.05555555555556),\n",
              " (21.0, 21.0),\n",
              " (3.5, 3.5),\n",
              " (56.0, 56.0),\n",
              " (84.0, 84.0),\n",
              " (11.0, 11.0)]"
            ]
          },
          "metadata": {
            "tags": []
          },
          "execution_count": 8
        }
      ]
    },
    {
      "cell_type": "code",
      "metadata": {
        "colab": {
          "base_uri": "https://localhost:8080/"
        },
        "id": "eBy16mSFUulw",
        "outputId": "ea28c3aa-d231-4097-d202-6321ae9fa426"
      },
      "source": [
        "from sklearn.cluster import KMeans\n",
        "\n",
        "res = KMeans(n_clusters=6)\n",
        "res.fit(a)\n",
        "\n",
        "label = res.predict(a)\n",
        "print(label)"
      ],
      "execution_count": 9,
      "outputs": [
        {
          "output_type": "stream",
          "text": [
            "[4 4 4 4 4 4 4 4 4 4 4 4 4 4 4 4 0 0 0 0 0 0 0 0 0 0 0 0 0 0 0 0 5 5 5 5 5\n",
            " 5 5 5 5 5 5 5 5 5 5 5 2 2 2 2 2 2 2 2 2 2 2 2 2 2 2 2 2 1 1 1 1 1 1 1 1 1\n",
            " 1 1 1 1 1 1 1 1 1 3 3 3 3 3 3 3 3 3 3 3 3 3 3 3 3 3]\n"
          ],
          "name": "stdout"
        }
      ]
    }
  ]
}